{
 "cells": [
  {
   "cell_type": "code",
   "execution_count": 1,
   "metadata": {},
   "outputs": [],
   "source": [
    "# Dependencies\n",
    "from bs4 import BeautifulSoup as bs\n",
    "import requests\n",
    "from webdriver_manager.chrome import ChromeDriverManager\n",
    "from splinter import Browser\n",
    "import pandas as pd\n",
    "from re import search\n",
    "import time"
   ]
  },
  {
   "cell_type": "markdown",
   "metadata": {},
   "source": [
    "## NASA Latest News Scraping with Beautifulsoup and Splinter"
   ]
  },
  {
   "cell_type": "code",
   "execution_count": 2,
   "metadata": {},
   "outputs": [],
   "source": [
    "# Retrieve page with the requests module\n",
    "url_nasa = 'https://mars.nasa.gov/#news_and_events'\n",
    "response_nasa = requests.get(url_nasa)"
   ]
  },
  {
   "cell_type": "code",
   "execution_count": 3,
   "metadata": {},
   "outputs": [],
   "source": [
    "# Create BeautifulSoup object; parse with 'html.parser'\n",
    "soup_nasa = bs(response_nasa.text, 'html.parser')"
   ]
  },
  {
   "cell_type": "code",
   "execution_count": 4,
   "metadata": {},
   "outputs": [],
   "source": [
    "# results are returned as an iterable list\n",
    "results_nasa = soup_nasa.find_all('h3', class_='title')"
   ]
  },
  {
   "cell_type": "code",
   "execution_count": 5,
   "metadata": {},
   "outputs": [
    {
     "data": {
      "text/plain": [
       "{'nasa': {'title': ['NASA Ingenuity Mars Helicopter Prepares for First Flight',\n",
       "   'NASA to Host Briefing to Preview First Mars Helicopter Flights',\n",
       "   'Another First: Perseverance Captures the Sounds of Driving on Mars'],\n",
       "  'src': ['https://mars.nasa.gov/news/8896/nasa-ingenuity-mars-helicopter-prepares-for-first-flight/',\n",
       "   'https://mars.nasa.gov/news/8891/nasa-to-host-briefing-to-preview-first-mars-helicopter-flights/',\n",
       "   'https://mars.nasa.gov/news/8892/another-first-perseverance-captures-the-sounds-of-driving-on-mars/'],\n",
       "  'parag': ['NASA is targeting no earlier than April 8 for the Ingenuity Mars Helicopter to make the first attempt at powered, controlled flight of an aircraft on another planet. Before the 4-pound (1.8-kilogram) rotorcraft can attempt its first flight, however, both it and its team must meet a series of daunting milestones.',\n",
       "   'NASA will hold a virtual media briefing at 1:30 p.m. EDT (10:30 a.m. PDT) Tuesday, March 23, to discuss upcoming activities for the agency’s Ingenuity Mars helicopter. The teams operating Ingenuity and NASA’s Mars 2020 Perseverance rover have chosen the flight zone where the helicopter will attempt the first powered, controlled flights on another planet.',\n",
       "   'As the Perseverance rover began to make tracks on the surface of Mars, a sensitive microphone it carries scored a first: the bangs, pings, and rattles of the robot’s six wheels as they rolled over Martian terrain.']}}"
      ]
     },
     "execution_count": 5,
     "metadata": {},
     "output_type": "execute_result"
    }
   ],
   "source": [
    "nasa_news = {}\n",
    "\n",
    "article_title = []\n",
    "article_link = []\n",
    "article_text = []\n",
    "\n",
    "# assign article title and url to lists\n",
    "for result in results_nasa:\n",
    "\n",
    "    try:\n",
    "        # Identify and return title of listing\n",
    "        title = result.a.text\n",
    "\n",
    "        # Identify and return link to listing\n",
    "        link = result.a['href']\n",
    "        if search('http', link):\n",
    "            continue\n",
    "        else:\n",
    "            url_src = url_nasa\n",
    "            url_split = url_src.split('/#news_and_events')\n",
    "            link = url_split[0] + link\n",
    "\n",
    "        # Append results only if title and link are available\n",
    "        if (title and link):\n",
    "            article_title.append(title)\n",
    "            article_link.append(link)\n",
    "    except AttributeError as e:\n",
    "        print(e)\n",
    "\n",
    "        \n",
    "for src in article_link:\n",
    "\n",
    "    # Retrieve page with the requests module\n",
    "    response_nasa = requests.get(src)\n",
    "\n",
    "    # Create BeautifulSoup object; parse with 'html.parser'\n",
    "    soup_nasa = bs(response_nasa.text, 'html.parser')\n",
    "\n",
    "    # results are returned as an iterable list\n",
    "    results_nasa = soup_nasa.find('div', class_='wysiwyg_content')\n",
    "    article_text.append(results_nasa.find_all('p')[1].text)\n",
    "\n",
    "# import lists into nasa_news dictionary\n",
    "nasa_news['nasa'] = {'title': article_title, 'src': article_link, 'parag': article_text}\n",
    "\n",
    "nasa_news"
   ]
  },
  {
   "cell_type": "markdown",
   "metadata": {},
   "source": [
    "## Find Latest Image from JPL Using Splinter"
   ]
  },
  {
   "cell_type": "code",
   "execution_count": 6,
   "metadata": {},
   "outputs": [
    {
     "name": "stderr",
     "output_type": "stream",
     "text": [
      "[WDM] - ====== WebDriver manager ======\n",
      "[WDM] - Current google-chrome version is 89.0.4389\n",
      "[WDM] - Get LATEST driver version for 89.0.4389\n"
     ]
    },
    {
     "name": "stdout",
     "output_type": "stream",
     "text": [
      "\n",
      "\n"
     ]
    },
    {
     "name": "stderr",
     "output_type": "stream",
     "text": [
      "[WDM] - Driver [C:\\Users\\jtstr\\.wdm\\drivers\\chromedriver\\win32\\89.0.4389.23\\chromedriver.exe] found in cache\n"
     ]
    },
    {
     "name": "stdout",
     "output_type": "stream",
     "text": [
      "https://data-class-jpl-space.s3.amazonaws.com/JPL_Space/image/featured/mars2.jpg\n"
     ]
    }
   ],
   "source": [
    "# Setup splinter\n",
    "executable_path = {'executable_path': ChromeDriverManager().install()}\n",
    "browser = Browser('chrome', **executable_path, headless=False)\n",
    "\n",
    "# Retrieve page with the requests module\n",
    "url_jpl = 'https://data-class-jpl-space.s3.amazonaws.com/JPL_Space/index.html'\n",
    "browser.visit(url_jpl)\n",
    "\n",
    "# click on the image\n",
    "browser.links.find_by_partial_text('FULL IMAGE').click()\n",
    "\n",
    "# locate image source using splinter method\n",
    "image_url = browser.find_by_css('img.headerimage.fade-in')['src']\n",
    "print(image_url)\n",
    "\n",
    "# Save to dictionary\n",
    "nasa_news['mars'] = {'title': 'JPL Featured Image', 'src':image_url}\n",
    "\n",
    "# quit browser\n",
    "browser.quit()"
   ]
  },
  {
   "cell_type": "markdown",
   "metadata": {},
   "source": [
    "## Scrape data tables about Mars from Space-facts using pandas"
   ]
  },
  {
   "cell_type": "code",
   "execution_count": 7,
   "metadata": {},
   "outputs": [
    {
     "name": "stdout",
     "output_type": "stream",
     "text": [
      "<table border=\"0\" class=\"dataframe\">\n",
      "  <thead>\n",
      "    <tr style=\"text-align: left;\">\n",
      "      <th></th>\n",
      "      <th>Value</th>\n",
      "    </tr>\n",
      "  </thead>\n",
      "  <tbody>\n",
      "    <tr>\n",
      "      <th>Equatorial Diameter:</th>\n",
      "      <td>6,792 km</td>\n",
      "    </tr>\n",
      "    <tr>\n",
      "      <th>Polar Diameter:</th>\n",
      "      <td>6,752 km</td>\n",
      "    </tr>\n",
      "    <tr>\n",
      "      <th>Mass:</th>\n",
      "      <td>6.39 × 10^23 kg (0.11 Earths)</td>\n",
      "    </tr>\n",
      "    <tr>\n",
      "      <th>Moons:</th>\n",
      "      <td>2 (Phobos &amp; Deimos)</td>\n",
      "    </tr>\n",
      "    <tr>\n",
      "      <th>Orbit Distance:</th>\n",
      "      <td>227,943,824 km (1.38 AU)</td>\n",
      "    </tr>\n",
      "    <tr>\n",
      "      <th>Orbit Period:</th>\n",
      "      <td>687 days (1.9 years)</td>\n",
      "    </tr>\n",
      "    <tr>\n",
      "      <th>Surface Temperature:</th>\n",
      "      <td>-87 to -5 °C</td>\n",
      "    </tr>\n",
      "    <tr>\n",
      "      <th>First Record:</th>\n",
      "      <td>2nd millennium BC</td>\n",
      "    </tr>\n",
      "    <tr>\n",
      "      <th>Recorded By:</th>\n",
      "      <td>Egyptian astronomers</td>\n",
      "    </tr>\n",
      "  </tbody>\n",
      "</table>\n"
     ]
    }
   ],
   "source": [
    "# Use pandas to read the tables on the site\n",
    "url_mars = 'https://space-facts.com/mars/'\n",
    "tables = pd.read_html(url_mars)\n",
    "mars_data_tb = tables[0]\n",
    "mars_earth_tb = tables[1]\n",
    "\n",
    "# Rename columns\n",
    "mars_data_tb.rename(columns={0:'Attribute', 1:'Value'}, inplace = True)\n",
    "mars_data_tb.set_index('Attribute', inplace = True)\n",
    "\n",
    "mars_earth_tb.rename(columns={'Mars - Earth Comparison':'Attribute'}, inplace = True)\n",
    "mars_earth_tb.set_index('Attribute', inplace = True)\n",
    "\n",
    "# generate HTML code for each table\n",
    "mars_earth_html = mars_earth_tb.to_html(index_names = False, border = 0, justify = 'left')\n",
    "mars_data_html = mars_data_tb.to_html(index_names = False, border = 0, justify = 'left')\n",
    "\n",
    "# add to dictionary\n",
    "nasa_news['mars_facts'] = mars_data_html\n",
    "nasa_news['mars_earth_facts'] = mars_earth_html\n",
    "\n",
    "# print one table\n",
    "print(mars_data_html)"
   ]
  },
  {
   "cell_type": "markdown",
   "metadata": {},
   "source": [
    "## Find image data for mars hemispheres from astrogeology using splinter and beautifulsoup"
   ]
  },
  {
   "cell_type": "code",
   "execution_count": 8,
   "metadata": {},
   "outputs": [
    {
     "name": "stderr",
     "output_type": "stream",
     "text": [
      "[WDM] - ====== WebDriver manager ======\n",
      "[WDM] - Current google-chrome version is 89.0.4389\n",
      "[WDM] - Get LATEST driver version for 89.0.4389\n"
     ]
    },
    {
     "name": "stdout",
     "output_type": "stream",
     "text": [
      "\n",
      "\n"
     ]
    },
    {
     "name": "stderr",
     "output_type": "stream",
     "text": [
      "[WDM] - Driver [C:\\Users\\jtstr\\.wdm\\drivers\\chromedriver\\win32\\89.0.4389.23\\chromedriver.exe] found in cache\n"
     ]
    },
    {
     "name": "stdout",
     "output_type": "stream",
     "text": [
      "['Cerberus Hemisphere', 'Schiaparelli Hemisphere', 'Syrtis Major Hemisphere', 'Valles Marineris Hemisphere']\n",
      "['https://astrogeology.usgs.gov/cache/images/39d3266553462198bd2fbc4d18fbed17_cerberus_enhanced.tif_thumb.png', 'https://astrogeology.usgs.gov/cache/images/08eac6e22c07fb1fe72223a79252de20_schiaparelli_enhanced.tif_thumb.png', 'https://astrogeology.usgs.gov/cache/images/55a0a1e2796313fdeafb17c35925e8ac_syrtis_major_enhanced.tif_thumb.png', 'https://astrogeology.usgs.gov/cache/images/4e59980c1c57f89c680c0e1ccabbeff1_valles_marineris_enhanced.tif_thumb.png']\n"
     ]
    }
   ],
   "source": [
    "# Setup splinter\n",
    "executable_path = {'executable_path': ChromeDriverManager().install()}\n",
    "browser = Browser('chrome', **executable_path, headless=False)\n",
    "\n",
    "# set url\n",
    "url_mars_hemi = 'https://astrogeology.usgs.gov/search/results?q=hemisphere+enhanced&k1=target&v1=Mars'\n",
    "\n",
    "# Setup dictionary and list variables\n",
    "img_data = {}\n",
    "title = []\n",
    "img = []\n",
    "\n",
    "# parse url to add to the image cache links (later)\n",
    "new = url_mars_hemi.split('/')\n",
    "url_recon = new[0] + '//' + new[2]\n",
    "\n",
    "# start loop through four hemispheres\n",
    "# use splinter to select each image url in order to capture the source url correctly\n",
    "# use beautifulsoup to capture data\n",
    "\n",
    "hemis = ['Cerberus', 'Schiaparelli', 'Syrtis', 'Valles']\n",
    "\n",
    "for i in range(4):\n",
    "\n",
    "    url_mars_hemi = 'https://astrogeology.usgs.gov/search/results?q=hemisphere+enhanced&k1=target&v1=Mars'\n",
    "    browser.visit(url_mars_hemi)\n",
    "\n",
    "    time.sleep(5)\n",
    "\n",
    "    browser.links.find_by_partial_text(hemis[i]).click()\n",
    "    \n",
    "    new_url = browser.url\n",
    "\n",
    "    # Create BeautifulSoup object; parse with 'html.parser'\n",
    "    response_title = requests.get(new_url)\n",
    "    \n",
    "    # results are returned as an iterable list\n",
    "    soup_title = bs(response_title.text, 'html.parser')\n",
    "   \n",
    "    # save image title\n",
    "    hemi_title = soup_title.find('head')\n",
    "    title.append(hemi_title.title.text)\n",
    "    \n",
    "    # save image source\n",
    "    hemi_img = soup_title.find('img', class_='thumb')\n",
    "    img.append(url_recon + hemi_img['src'])\n",
    "\n",
    "    i += 1\n",
    "\n",
    "browser.quit()\n",
    "\n",
    "# clean up title a little\n",
    "for index in range(len(title)):\n",
    "    title[index] = title[index].split(\" | \")[0]\n",
    "    title[index] = title[index].replace(' Enhanced','')\n",
    "\n",
    "# add data to dictionary\n",
    "nasa_news['hemi'] = {'name': title, 'src': img}\n",
    "\n",
    "# print results\n",
    "print(title)\n",
    "print(img)"
   ]
  },
  {
   "cell_type": "markdown",
   "metadata": {},
   "source": []
  }
 ],
 "metadata": {
  "kernelspec": {
   "display_name": "Python [conda env:PythonData] *",
   "language": "python",
   "name": "conda-env-PythonData-py"
  },
  "language_info": {
   "codemirror_mode": {
    "name": "ipython",
    "version": 3
   },
   "file_extension": ".py",
   "mimetype": "text/x-python",
   "name": "python",
   "nbconvert_exporter": "python",
   "pygments_lexer": "ipython3",
   "version": "3.6.10"
  }
 },
 "nbformat": 4,
 "nbformat_minor": 4
}
