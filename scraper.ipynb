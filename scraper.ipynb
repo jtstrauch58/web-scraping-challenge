{
 "cells": [
  {
   "cell_type": "code",
   "execution_count": 1,
   "metadata": {},
   "outputs": [],
   "source": [
    "# Dependencies\n",
    "from bs4 import BeautifulSoup\n",
    "import requests\n",
    "from webdriver_manager.chrome import ChromeDriverManager\n",
    "from splinter import Browser\n",
    "import pandas as pd\n",
    "from re import search"
   ]
  },
  {
   "cell_type": "code",
   "execution_count": 2,
   "metadata": {},
   "outputs": [],
   "source": [
    "# Retrieve page with the requests module\n",
    "url_nasa = 'https://mars.nasa.gov/#news_and_events'\n",
    "response_nasa = requests.get(url_nasa)"
   ]
  },
  {
   "cell_type": "code",
   "execution_count": 3,
   "metadata": {},
   "outputs": [],
   "source": [
    "# Create BeautifulSoup object; parse with 'html.parser'\n",
    "soup_nasa = BeautifulSoup(response_nasa.text, 'html.parser')"
   ]
  },
  {
   "cell_type": "code",
   "execution_count": 13,
   "metadata": {},
   "outputs": [
    {
     "name": "stdout",
     "output_type": "stream",
     "text": [
      "[<h3 class=\"title\">\n",
      "<a href=\"/news/8896/nasa-ingenuity-mars-helicopter-prepares-for-first-flight/\">NASA Ingenuity Mars Helicopter Prepares for First Flight</a>\n",
      "</h3>, <h3 class=\"title\">\n",
      "<a href=\"/news/8891/nasa-to-host-briefing-to-preview-first-mars-helicopter-flights/\">NASA to Host Briefing to Preview First Mars Helicopter Flights</a>\n",
      "</h3>, <h3 class=\"title\">\n",
      "<a href=\"/news/8892/another-first-perseverance-captures-the-sounds-of-driving-on-mars/\">Another First: Perseverance Captures the Sounds of Driving on Mars</a>\n",
      "</h3>, <h3 class=\"title\">\n",
      "<a href=\"https://mars.nasa.gov/mars-exploration/missions/phoenix/\" target=\"_self\">13th Anniversary: Mars Phoenix Landing</a>\n",
      "</h3>, <h3 class=\"title\">\n",
      "<a href=\"https://mars.nasa.gov/mars-exploration/missions/pathfinder/\" target=\"_self\">24th Anniversary: Mars Pathfinder Landing </a>\n",
      "</h3>, <h3 class=\"title\">\n",
      "<a href=\"https://mars.nasa.gov/msl/home/\" target=\"_self\">9th Anniversary: Mars Science Laboratory Landing </a>\n",
      "</h3>]\n"
     ]
    }
   ],
   "source": [
    "# results are returned as an iterable list\n",
    "results_nasa = soup_nasa.find_all('h3', class_='title')\n",
    "print(results_nasa)"
   ]
  },
  {
   "cell_type": "code",
   "execution_count": 11,
   "metadata": {},
   "outputs": [
    {
     "data": {
      "text/plain": [
       "{'nasa': {'title': ['NASA Ingenuity Mars Helicopter Prepares for First Flight',\n",
       "   'NASA to Host Briefing to Preview First Mars Helicopter Flights',\n",
       "   'Another First: Perseverance Captures the Sounds of Driving on Mars',\n",
       "   '13th Anniversary: Mars Phoenix Landing',\n",
       "   '24th Anniversary: Mars Pathfinder Landing ',\n",
       "   '9th Anniversary: Mars Science Laboratory Landing '],\n",
       "  'src': ['https://mars.nasa.gov/#news_and_events/news/8896/nasa-ingenuity-mars-helicopter-prepares-for-first-flight/',\n",
       "   'https://mars.nasa.gov/#news_and_events/news/8891/nasa-to-host-briefing-to-preview-first-mars-helicopter-flights/',\n",
       "   'https://mars.nasa.gov/#news_and_events/news/8892/another-first-perseverance-captures-the-sounds-of-driving-on-mars/',\n",
       "   'https://mars.nasa.gov/mars-exploration/missions/phoenix/',\n",
       "   'https://mars.nasa.gov/mars-exploration/missions/pathfinder/',\n",
       "   'https://mars.nasa.gov/msl/home/']}}"
      ]
     },
     "execution_count": 11,
     "metadata": {},
     "output_type": "execute_result"
    }
   ],
   "source": [
    "nasa_news = {}\n",
    "\n",
    "article_title = []\n",
    "article_link = []\n",
    "\n",
    "# assign article title and url to lists\n",
    "for result in results_nasa:\n",
    "\n",
    "    try:\n",
    "        # Identify and return title of listing\n",
    "        title = result.a.text\n",
    "\n",
    "        # Identify and return link to listing\n",
    "        link = result.a['href']\n",
    "        if search('http', link):\n",
    "            link = link\n",
    "        else:\n",
    "            link = url_nasa + link\n",
    "\n",
    "        # Append results only if title and link are available\n",
    "        if (title and link):\n",
    "            article_title.append(title)\n",
    "            article_link.append(link)\n",
    "    except AttributeError as e:\n",
    "        print(e)\n",
    "\n",
    " # import lists into nasa_news dictionary\n",
    "# nasa_news['nasa'] = [{'title': title, 'src': src} for title in article_title for src in article_link]\n",
    "nasa_news['nasa'] = {'title': article_title, 'src': article_link}\n",
    "nasa_news\n",
    "# nasa_news['title_nasa'] = article_title\n",
    "# nasa_news['url_nasa'] = article_link"
   ]
  },
  {
   "cell_type": "code",
   "execution_count": null,
   "metadata": {},
   "outputs": [],
   "source": [
    "# Setup splinter\n",
    "executable_path = {'executable_path': ChromeDriverManager().install()}\n",
    "browser = Browser('chrome', **executable_path, headless=False)"
   ]
  },
  {
   "cell_type": "code",
   "execution_count": null,
   "metadata": {},
   "outputs": [],
   "source": [
    "# Retrieve page with the requests module\n",
    "url_jpl = 'https://data-class-jpl-space.s3.amazonaws.com/JPL_Space/index.html'\n",
    "browser.visit(url_jpl)"
   ]
  },
  {
   "cell_type": "code",
   "execution_count": null,
   "metadata": {},
   "outputs": [],
   "source": [
    "browser.links.find_by_partial_text('FULL IMAGE').click()"
   ]
  },
  {
   "cell_type": "code",
   "execution_count": null,
   "metadata": {},
   "outputs": [],
   "source": [
    "# images = browser.find_by_tag('div')\n",
    "# src = browser.find_by_tag('img')\n",
    "# image_url = browser.find_by_css('a.showimg.fancybox-thumbs')['href']\n",
    "image_url = browser.find_by_css('img.headerimage.fade-in')\n",
    "# image_url = browser.find_by_tag('img')\n",
    "print(image_url['src'])\n",
    "# print(src[0])\n",
    "# for elements in image_url:\n",
    "#     print(elements)['src']\n",
    "# browser.quit()\n",
    "# https://data-class-jpl-space.s3.amazonaws.com/JPL_Space/image/featured/mars2.jpg"
   ]
  },
  {
   "cell_type": "code",
   "execution_count": null,
   "metadata": {},
   "outputs": [],
   "source": [
    "browser.quit()"
   ]
  },
  {
   "cell_type": "code",
   "execution_count": null,
   "metadata": {},
   "outputs": [],
   "source": [
    "url_jpl = 'https://data-class-jpl-space.s3.amazonaws.com/JPL_Space/index.html'\n",
    "\n",
    "response_jpl = requests.get(url_jpl)\n",
    "# Create BeautifulSoup object; parse with 'html.parser'\n",
    "\n",
    "soup_jpl = BeautifulSoup(response_jpl.text, 'html.parser')\n",
    "# results are returned as an iterable list\n",
    " \n",
    "results_jpl = soup_jpl.find_all('img')\n"
   ]
  },
  {
   "cell_type": "code",
   "execution_count": null,
   "metadata": {},
   "outputs": [],
   "source": [
    "results_jpl"
   ]
  },
  {
   "cell_type": "code",
   "execution_count": null,
   "metadata": {},
   "outputs": [],
   "source": [
    "url_mars = 'https://space-facts.com/mars/'\n",
    "\n",
    "response_mars = requests.get(url_mars)\n",
    "# Create BeautifulSoup object; parse with 'html.parser'\n",
    "\n",
    "soup_mars = BeautifulSoup(response_mars.text, 'html.parser')\n",
    "# results are returned as an iterable list\n",
    "\n",
    "data_mars = []\n",
    "table = soup_mars.find('table', attrs={'id':'tablepress-p-mars'})\n",
    "table_body = table.find('tbody')\n",
    "\n",
    "rows = table_body.find_all('tr')\n",
    "for row in rows:\n",
    "    cols = row.find_all('td')\n",
    "    cols = [ele.text.strip() for ele in cols]\n",
    "    data_mars.append([ele for ele in cols if ele])\n",
    "\n",
    "data_mars_earth = []\n",
    "table = soup_mars.find('table', attrs={'id':'tablepress-comp-mars'})\n",
    "table_body = table.find('tbody')\n",
    "\n",
    "rows = table_body.find_all('tr')\n",
    "for row in rows:\n",
    "    cols = row.find_all('td')\n",
    "    cols = [ele.text.strip() for ele in cols]\n",
    "    data_mars_earth.append([ele for ele in cols if ele])"
   ]
  },
  {
   "cell_type": "code",
   "execution_count": null,
   "metadata": {},
   "outputs": [],
   "source": [
    "data_mars_earth"
   ]
  },
  {
   "cell_type": "code",
   "execution_count": null,
   "metadata": {},
   "outputs": [],
   "source": [
    "img_data = {'title': [], 'img': []}\n",
    "title = []\n",
    "img = []\n",
    "\n",
    "moons = ['Cerberus', 'Schiaparelli', 'Syrtis', 'Valles']\n",
    "\n",
    "url_mars_hemi = 'https://astrogeology.usgs.gov/search/results?q=hemisphere+enhanced&k1=target&v1=Mars'\n",
    "new = url_mars_hemi.split('/')\n",
    "url_recon = new[0] + '//' + new[2]\n",
    "\n",
    "executable_path = {'executable_path': ChromeDriverManager().install()}\n",
    "browser = Browser('chrome', **executable_path, headless=False)\n",
    "\n",
    "for i in range(4):\n",
    "    \n",
    "    url_mars_hemi = 'https://astrogeology.usgs.gov/search/results?q=hemisphere+enhanced&k1=target&v1=Mars'\n",
    "    browser.visit(url_mars_hemi)\n",
    "    browser.links.find_by_partial_text(moons[i]).click()\n",
    "    new_url = browser.url\n",
    "    response_title = requests.get(new_url)\n",
    "    # Create BeautifulSoup object; parse with 'html.parser'\n",
    "\n",
    "    soup_title = BeautifulSoup(response_title.text, 'html.parser')\n",
    "    # results are returned as an iterable list\n",
    "\n",
    "    hemi_title = soup_title.find('head')\n",
    "    title.append(hemi_title.title.text)\n",
    "    print(hemi_title.title.text)\n",
    "\n",
    "    hemi_img = soup_title.find('img', class_='thumb')\n",
    "    img.append(url_recon + hemi_img['src'])\n",
    "    print(hemi_img['src'])\n",
    "    \n",
    "    i += 1\n",
    "    \n",
    "browser.quit()\n",
    "\n",
    "img_data['title'].append(title)\n",
    "img_data['img'].append(img)"
   ]
  },
  {
   "cell_type": "code",
   "execution_count": null,
   "metadata": {},
   "outputs": [],
   "source": []
  },
  {
   "cell_type": "code",
   "execution_count": null,
   "metadata": {},
   "outputs": [],
   "source": [
    "for index in range(len(img_data['title'][0])):\n",
    "    img_data['title'][0][index] = img_data['title'][0][index].split(\" | \")[0]\n",
    "    img_data['title'][0][index] = img_data['title'][0][index].replace(' Enhanced','')\n",
    "img_data\n"
   ]
  },
  {
   "cell_type": "code",
   "execution_count": null,
   "metadata": {},
   "outputs": [],
   "source": [
    "img_data['title'][0][1]"
   ]
  },
  {
   "cell_type": "code",
   "execution_count": 2,
   "metadata": {},
   "outputs": [],
   "source": [
    "url_mars = 'https://space-facts.com/mars/'\n",
    "tables = pd.read_html(url_mars)\n",
    "mars_data_tb = tables[0]\n",
    "mars_earth_tb = tables[1]"
   ]
  },
  {
   "cell_type": "code",
   "execution_count": 3,
   "metadata": {},
   "outputs": [],
   "source": [
    "mars_data_tb.rename(columns={0:'Attribute', 1:'Value'}, inplace = True)\n",
    "mars_data_tb.set_index('Attribute', inplace = True)"
   ]
  },
  {
   "cell_type": "code",
   "execution_count": 4,
   "metadata": {},
   "outputs": [
    {
     "data": {
      "text/html": [
       "<div>\n",
       "<style scoped>\n",
       "    .dataframe tbody tr th:only-of-type {\n",
       "        vertical-align: middle;\n",
       "    }\n",
       "\n",
       "    .dataframe tbody tr th {\n",
       "        vertical-align: top;\n",
       "    }\n",
       "\n",
       "    .dataframe thead th {\n",
       "        text-align: right;\n",
       "    }\n",
       "</style>\n",
       "<table border=\"1\" class=\"dataframe\">\n",
       "  <thead>\n",
       "    <tr style=\"text-align: right;\">\n",
       "      <th></th>\n",
       "      <th>Value</th>\n",
       "    </tr>\n",
       "    <tr>\n",
       "      <th>Attribute</th>\n",
       "      <th></th>\n",
       "    </tr>\n",
       "  </thead>\n",
       "  <tbody>\n",
       "    <tr>\n",
       "      <th>Equatorial Diameter:</th>\n",
       "      <td>6,792 km</td>\n",
       "    </tr>\n",
       "    <tr>\n",
       "      <th>Polar Diameter:</th>\n",
       "      <td>6,752 km</td>\n",
       "    </tr>\n",
       "    <tr>\n",
       "      <th>Mass:</th>\n",
       "      <td>6.39 × 10^23 kg (0.11 Earths)</td>\n",
       "    </tr>\n",
       "    <tr>\n",
       "      <th>Moons:</th>\n",
       "      <td>2 (Phobos &amp; Deimos)</td>\n",
       "    </tr>\n",
       "    <tr>\n",
       "      <th>Orbit Distance:</th>\n",
       "      <td>227,943,824 km (1.38 AU)</td>\n",
       "    </tr>\n",
       "    <tr>\n",
       "      <th>Orbit Period:</th>\n",
       "      <td>687 days (1.9 years)</td>\n",
       "    </tr>\n",
       "    <tr>\n",
       "      <th>Surface Temperature:</th>\n",
       "      <td>-87 to -5 °C</td>\n",
       "    </tr>\n",
       "    <tr>\n",
       "      <th>First Record:</th>\n",
       "      <td>2nd millennium BC</td>\n",
       "    </tr>\n",
       "    <tr>\n",
       "      <th>Recorded By:</th>\n",
       "      <td>Egyptian astronomers</td>\n",
       "    </tr>\n",
       "  </tbody>\n",
       "</table>\n",
       "</div>"
      ],
      "text/plain": [
       "                                              Value\n",
       "Attribute                                          \n",
       "Equatorial Diameter:                       6,792 km\n",
       "Polar Diameter:                            6,752 km\n",
       "Mass:                 6.39 × 10^23 kg (0.11 Earths)\n",
       "Moons:                          2 (Phobos & Deimos)\n",
       "Orbit Distance:            227,943,824 km (1.38 AU)\n",
       "Orbit Period:                  687 days (1.9 years)\n",
       "Surface Temperature:                   -87 to -5 °C\n",
       "First Record:                     2nd millennium BC\n",
       "Recorded By:                   Egyptian astronomers"
      ]
     },
     "execution_count": 4,
     "metadata": {},
     "output_type": "execute_result"
    }
   ],
   "source": [
    "mars_data_tb"
   ]
  },
  {
   "cell_type": "code",
   "execution_count": 7,
   "metadata": {},
   "outputs": [
    {
     "ename": "KeyError",
     "evalue": "\"None of ['Attribute'] are in the columns\"",
     "output_type": "error",
     "traceback": [
      "\u001b[1;31m---------------------------------------------------------------------------\u001b[0m",
      "\u001b[1;31mKeyError\u001b[0m                                  Traceback (most recent call last)",
      "\u001b[1;32m<ipython-input-7-d92b3e582a46>\u001b[0m in \u001b[0;36m<module>\u001b[1;34m\u001b[0m\n\u001b[0;32m      1\u001b[0m \u001b[0mmars_earth_tb\u001b[0m\u001b[1;33m.\u001b[0m\u001b[0mrename\u001b[0m\u001b[1;33m(\u001b[0m\u001b[0mcolumns\u001b[0m\u001b[1;33m=\u001b[0m\u001b[1;33m{\u001b[0m\u001b[1;34m'Mars - Earth Comparison'\u001b[0m\u001b[1;33m:\u001b[0m\u001b[1;34m'Attribute'\u001b[0m\u001b[1;33m}\u001b[0m\u001b[1;33m,\u001b[0m \u001b[0minplace\u001b[0m \u001b[1;33m=\u001b[0m \u001b[1;32mTrue\u001b[0m\u001b[1;33m)\u001b[0m\u001b[1;33m\u001b[0m\u001b[1;33m\u001b[0m\u001b[0m\n\u001b[1;32m----> 2\u001b[1;33m \u001b[0mmars_earth_tb\u001b[0m\u001b[1;33m.\u001b[0m\u001b[0mset_index\u001b[0m\u001b[1;33m(\u001b[0m\u001b[1;34m'Attribute'\u001b[0m\u001b[1;33m,\u001b[0m \u001b[0minplace\u001b[0m \u001b[1;33m=\u001b[0m \u001b[1;32mTrue\u001b[0m\u001b[1;33m)\u001b[0m\u001b[1;33m\u001b[0m\u001b[1;33m\u001b[0m\u001b[0m\n\u001b[0m",
      "\u001b[1;32m~\\anaconda\\envs\\PythonData\\lib\\site-packages\\pandas\\core\\frame.py\u001b[0m in \u001b[0;36mset_index\u001b[1;34m(self, keys, drop, append, inplace, verify_integrity)\u001b[0m\n\u001b[0;32m   4301\u001b[0m \u001b[1;33m\u001b[0m\u001b[0m\n\u001b[0;32m   4302\u001b[0m         \u001b[1;32mif\u001b[0m \u001b[0mmissing\u001b[0m\u001b[1;33m:\u001b[0m\u001b[1;33m\u001b[0m\u001b[1;33m\u001b[0m\u001b[0m\n\u001b[1;32m-> 4303\u001b[1;33m             \u001b[1;32mraise\u001b[0m \u001b[0mKeyError\u001b[0m\u001b[1;33m(\u001b[0m\u001b[1;34mf\"None of {missing} are in the columns\"\u001b[0m\u001b[1;33m)\u001b[0m\u001b[1;33m\u001b[0m\u001b[1;33m\u001b[0m\u001b[0m\n\u001b[0m\u001b[0;32m   4304\u001b[0m \u001b[1;33m\u001b[0m\u001b[0m\n\u001b[0;32m   4305\u001b[0m         \u001b[1;32mif\u001b[0m \u001b[0minplace\u001b[0m\u001b[1;33m:\u001b[0m\u001b[1;33m\u001b[0m\u001b[1;33m\u001b[0m\u001b[0m\n",
      "\u001b[1;31mKeyError\u001b[0m: \"None of ['Attribute'] are in the columns\""
     ]
    }
   ],
   "source": [
    "mars_earth_tb.rename(columns={'Mars - Earth Comparison':'Attribute'}, inplace = True)\n",
    "mars_earth_tb.set_index('Attribute', inplace = True)"
   ]
  },
  {
   "cell_type": "code",
   "execution_count": 8,
   "metadata": {},
   "outputs": [
    {
     "data": {
      "text/html": [
       "<div>\n",
       "<style scoped>\n",
       "    .dataframe tbody tr th:only-of-type {\n",
       "        vertical-align: middle;\n",
       "    }\n",
       "\n",
       "    .dataframe tbody tr th {\n",
       "        vertical-align: top;\n",
       "    }\n",
       "\n",
       "    .dataframe thead th {\n",
       "        text-align: right;\n",
       "    }\n",
       "</style>\n",
       "<table border=\"1\" class=\"dataframe\">\n",
       "  <thead>\n",
       "    <tr style=\"text-align: right;\">\n",
       "      <th></th>\n",
       "      <th>Mars</th>\n",
       "      <th>Earth</th>\n",
       "    </tr>\n",
       "    <tr>\n",
       "      <th>Attribute</th>\n",
       "      <th></th>\n",
       "      <th></th>\n",
       "    </tr>\n",
       "  </thead>\n",
       "  <tbody>\n",
       "    <tr>\n",
       "      <th>Diameter:</th>\n",
       "      <td>6,779 km</td>\n",
       "      <td>12,742 km</td>\n",
       "    </tr>\n",
       "    <tr>\n",
       "      <th>Mass:</th>\n",
       "      <td>6.39 × 10^23 kg</td>\n",
       "      <td>5.97 × 10^24 kg</td>\n",
       "    </tr>\n",
       "    <tr>\n",
       "      <th>Moons:</th>\n",
       "      <td>2</td>\n",
       "      <td>1</td>\n",
       "    </tr>\n",
       "    <tr>\n",
       "      <th>Distance from Sun:</th>\n",
       "      <td>227,943,824 km</td>\n",
       "      <td>149,598,262 km</td>\n",
       "    </tr>\n",
       "    <tr>\n",
       "      <th>Length of Year:</th>\n",
       "      <td>687 Earth days</td>\n",
       "      <td>365.24 days</td>\n",
       "    </tr>\n",
       "    <tr>\n",
       "      <th>Temperature:</th>\n",
       "      <td>-87 to -5 °C</td>\n",
       "      <td>-88 to 58°C</td>\n",
       "    </tr>\n",
       "  </tbody>\n",
       "</table>\n",
       "</div>"
      ],
      "text/plain": [
       "                               Mars            Earth\n",
       "Attribute                                           \n",
       "Diameter:                  6,779 km        12,742 km\n",
       "Mass:               6.39 × 10^23 kg  5.97 × 10^24 kg\n",
       "Moons:                            2                1\n",
       "Distance from Sun:   227,943,824 km   149,598,262 km\n",
       "Length of Year:      687 Earth days      365.24 days\n",
       "Temperature:           -87 to -5 °C      -88 to 58°C"
      ]
     },
     "execution_count": 8,
     "metadata": {},
     "output_type": "execute_result"
    }
   ],
   "source": [
    "mars_earth_tb"
   ]
  },
  {
   "cell_type": "code",
   "execution_count": 13,
   "metadata": {},
   "outputs": [],
   "source": [
    "mars_earth_html = mars_earth_tb.to_html(header = True, index_names = False)\n",
    "mars_data_html = mars_data_tb.to_html()"
   ]
  },
  {
   "cell_type": "code",
   "execution_count": 14,
   "metadata": {},
   "outputs": [
    {
     "data": {
      "text/plain": [
       "'<table border=\"1\" class=\"dataframe\">\\n  <thead>\\n    <tr style=\"text-align: right;\">\\n      <th></th>\\n      <th>Mars</th>\\n      <th>Earth</th>\\n    </tr>\\n  </thead>\\n  <tbody>\\n    <tr>\\n      <th>Diameter:</th>\\n      <td>6,779 km</td>\\n      <td>12,742 km</td>\\n    </tr>\\n    <tr>\\n      <th>Mass:</th>\\n      <td>6.39 × 10^23 kg</td>\\n      <td>5.97 × 10^24 kg</td>\\n    </tr>\\n    <tr>\\n      <th>Moons:</th>\\n      <td>2</td>\\n      <td>1</td>\\n    </tr>\\n    <tr>\\n      <th>Distance from Sun:</th>\\n      <td>227,943,824 km</td>\\n      <td>149,598,262 km</td>\\n    </tr>\\n    <tr>\\n      <th>Length of Year:</th>\\n      <td>687 Earth days</td>\\n      <td>365.24 days</td>\\n    </tr>\\n    <tr>\\n      <th>Temperature:</th>\\n      <td>-87 to -5 °C</td>\\n      <td>-88 to 58°C</td>\\n    </tr>\\n  </tbody>\\n</table>'"
      ]
     },
     "execution_count": 14,
     "metadata": {},
     "output_type": "execute_result"
    }
   ],
   "source": [
    "mars_earth_html"
   ]
  },
  {
   "cell_type": "markdown",
   "metadata": {},
   "source": []
  }
 ],
 "metadata": {
  "kernelspec": {
   "display_name": "Python [conda env:PythonData] *",
   "language": "python",
   "name": "conda-env-PythonData-py"
  },
  "language_info": {
   "codemirror_mode": {
    "name": "ipython",
    "version": 3
   },
   "file_extension": ".py",
   "mimetype": "text/x-python",
   "name": "python",
   "nbconvert_exporter": "python",
   "pygments_lexer": "ipython3",
   "version": "3.6.10"
  }
 },
 "nbformat": 4,
 "nbformat_minor": 4
}
