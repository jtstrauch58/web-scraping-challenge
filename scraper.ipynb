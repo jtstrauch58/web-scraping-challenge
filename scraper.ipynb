{
 "cells": [
  {
   "cell_type": "code",
   "execution_count": 1,
   "metadata": {},
   "outputs": [],
   "source": [
    "# Dependencies\n",
    "from bs4 import BeautifulSoup\n",
    "import requests\n",
    "from webdriver_manager.chrome import ChromeDriverManager\n",
    "from splinter import Browser\n",
    "import pandas as pd\n",
    "from re import search"
   ]
  },
  {
   "cell_type": "markdown",
   "metadata": {},
   "source": [
    "## NASA Latest News Scraping with Beautifulsoup and Splinter"
   ]
  },
  {
   "cell_type": "code",
   "execution_count": 2,
   "metadata": {},
   "outputs": [],
   "source": [
    "# Retrieve page with the requests module\n",
    "url_nasa = 'https://mars.nasa.gov/#news_and_events'\n",
    "response_nasa = requests.get(url_nasa)"
   ]
  },
  {
   "cell_type": "code",
   "execution_count": 3,
   "metadata": {},
   "outputs": [],
   "source": [
    "# Create BeautifulSoup object; parse with 'html.parser'\n",
    "soup_nasa = BeautifulSoup(response_nasa.text, 'html.parser')"
   ]
  },
  {
   "cell_type": "code",
   "execution_count": 4,
   "metadata": {},
   "outputs": [
    {
     "name": "stdout",
     "output_type": "stream",
     "text": [
      "[<h3 class=\"title\">\n",
      "<a href=\"/news/8896/nasa-ingenuity-mars-helicopter-prepares-for-first-flight/\">NASA Ingenuity Mars Helicopter Prepares for First Flight</a>\n",
      "</h3>, <h3 class=\"title\">\n",
      "<a href=\"/news/8891/nasa-to-host-briefing-to-preview-first-mars-helicopter-flights/\">NASA to Host Briefing to Preview First Mars Helicopter Flights</a>\n",
      "</h3>, <h3 class=\"title\">\n",
      "<a href=\"/news/8892/another-first-perseverance-captures-the-sounds-of-driving-on-mars/\">Another First: Perseverance Captures the Sounds of Driving on Mars</a>\n",
      "</h3>, <h3 class=\"title\">\n",
      "<a href=\"https://mars.nasa.gov/technology/helicopter/#Watch-Online\" target=\"_self\">Helicopter Flight Preview Webinar</a>\n",
      "</h3>, <h3 class=\"title\">\n",
      "<a href=\"https://mars.nasa.gov/technology/helicopter/\" target=\"_self\">Earliest Flight Opportunity for Mars Helicopter</a>\n",
      "</h3>, <h3 class=\"title\">\n",
      "<a href=\"https://mars.nasa.gov/mars-exploration/missions/phoenix/\" target=\"_self\">13th Anniversary: Mars Phoenix Landing</a>\n",
      "</h3>]\n"
     ]
    }
   ],
   "source": [
    "# results are returned as an iterable list\n",
    "results_nasa = soup_nasa.find_all('h3', class_='title')"
   ]
  },
  {
   "cell_type": "code",
   "execution_count": 8,
   "metadata": {},
   "outputs": [
    {
     "data": {
      "text/plain": [
       "{'nasa': {'title': ['NASA Ingenuity Mars Helicopter Prepares for First Flight',\n",
       "   'NASA to Host Briefing to Preview First Mars Helicopter Flights',\n",
       "   'Another First: Perseverance Captures the Sounds of Driving on Mars'],\n",
       "  'src': ['https://mars.nasa.gov/news/8896/nasa-ingenuity-mars-helicopter-prepares-for-first-flight/',\n",
       "   'https://mars.nasa.gov/news/8891/nasa-to-host-briefing-to-preview-first-mars-helicopter-flights/',\n",
       "   'https://mars.nasa.gov/news/8892/another-first-perseverance-captures-the-sounds-of-driving-on-mars/']}}"
      ]
     },
     "execution_count": 8,
     "metadata": {},
     "output_type": "execute_result"
    }
   ],
   "source": [
    "nasa_news = {}\n",
    "\n",
    "article_title = []\n",
    "article_link = []\n",
    "article_text = []\n",
    "\n",
    "# assign article title and url to lists\n",
    "for result in results_nasa:\n",
    "\n",
    "    try:\n",
    "        # Identify and return title of listing\n",
    "        title = result.a.text\n",
    "\n",
    "        # Identify and return link to listing\n",
    "        link = result.a['href']\n",
    "        if search('http', link):\n",
    "            continue\n",
    "        else:\n",
    "            url_src = url_nasa\n",
    "            url_split = url_src.split('/#news_and_events')\n",
    "            link = url_split[0] + link\n",
    "\n",
    "        # Append results only if title and link are available\n",
    "        if (title and link):\n",
    "            article_title.append(title)\n",
    "            article_link.append(link)\n",
    "    except AttributeError as e:\n",
    "        print(e)\n",
    "\n",
    " # import lists into nasa_news dictionary\n",
    "\n",
    "nasa_news['nasa'] = {'title': article_title, 'src': article_link}\n",
    "nasa_news"
   ]
  },
  {
   "cell_type": "code",
   "execution_count": 67,
   "metadata": {},
   "outputs": [
    {
     "name": "stdout",
     "output_type": "stream",
     "text": [
      "https://mars.nasa.gov/news/8896/nasa-ingenuity-mars-helicopter-prepares-for-first-flight/\n",
      "NASA is targeting no earlier than April 8 for the Ingenuity Mars Helicopter to make the first attempt at powered, controlled flight of an aircraft on another planet. Before the 4-pound (1.8-kilogram) rotorcraft can attempt its first flight, however, both it and its team must meet a series of daunting milestones.\n",
      "https://mars.nasa.gov/news/8891/nasa-to-host-briefing-to-preview-first-mars-helicopter-flights/\n",
      "NASA will hold a virtual media briefing at 1:30 p.m. EDT (10:30 a.m. PDT) Tuesday, March 23, to discuss upcoming activities for the agency’s Ingenuity Mars helicopter. The teams operating Ingenuity and NASA’s Mars 2020 Perseverance rover have chosen the flight zone where the helicopter will attempt the first powered, controlled flights on another planet.\n",
      "https://mars.nasa.gov/news/8892/another-first-perseverance-captures-the-sounds-of-driving-on-mars/\n",
      "As the Perseverance rover began to make tracks on the surface of Mars, a sensitive microphone it carries scored a first: the bangs, pings, and rattles of the robot’s six wheels as they rolled over Martian terrain.\n"
     ]
    }
   ],
   "source": [
    "# Retrieve paragraph information from nasa.gov for each top news story\n",
    "\n",
    "for src in nasa_news['nasa']['src']:\n",
    "    print(src)\n",
    "    # Retrieve page with the requests module\n",
    "    response_nasa = requests.get(src)\n",
    "    \n",
    "    # Create BeautifulSoup object; parse with 'html.parser'\n",
    "    soup_nasa = BeautifulSoup(response_nasa.text, 'html.parser')\n",
    "    \n",
    "    # results are returned as an iterable list\n",
    "    results_nasa = soup_nasa.find('div', class_='wysiwyg_content')\n",
    "    article_text.append(results_nasa.find_all('p')[1].text)\n",
    "    print(article_text)\n"
   ]
  },
  {
   "cell_type": "markdown",
   "metadata": {},
   "source": [
    "## Find Latest Image from JPL Using Splinter"
   ]
  },
  {
   "cell_type": "code",
   "execution_count": null,
   "metadata": {},
   "outputs": [],
   "source": [
    "# Setup splinter\n",
    "executable_path = {'executable_path': ChromeDriverManager().install()}\n",
    "browser = Browser('chrome', **executable_path, headless=False)"
   ]
  },
  {
   "cell_type": "code",
   "execution_count": null,
   "metadata": {},
   "outputs": [],
   "source": [
    "# Retrieve page with the requests module\n",
    "url_jpl = 'https://data-class-jpl-space.s3.amazonaws.com/JPL_Space/index.html'\n",
    "browser.visit(url_jpl)"
   ]
  },
  {
   "cell_type": "code",
   "execution_count": null,
   "metadata": {},
   "outputs": [],
   "source": [
    "browser.links.find_by_partial_text('FULL IMAGE').click()"
   ]
  },
  {
   "cell_type": "code",
   "execution_count": null,
   "metadata": {},
   "outputs": [],
   "source": [
    "\n",
    "image_url = browser.find_by_css('img.headerimage.fade-in')\n",
    "print(image_url['src'])\n"
   ]
  },
  {
   "cell_type": "code",
   "execution_count": null,
   "metadata": {},
   "outputs": [],
   "source": [
    "browser.quit()"
   ]
  },
  {
   "cell_type": "code",
   "execution_count": null,
   "metadata": {},
   "outputs": [],
   "source": [
    "url_jpl = 'https://data-class-jpl-space.s3.amazonaws.com/JPL_Space/index.html'\n",
    "\n",
    "response_jpl = requests.get(url_jpl)\n",
    "# Create BeautifulSoup object; parse with 'html.parser'\n",
    "\n",
    "soup_jpl = BeautifulSoup(response_jpl.text, 'html.parser')\n",
    "# results are returned as an iterable list\n",
    " \n",
    "results_jpl = soup_jpl.find_all('img')\n"
   ]
  },
  {
   "cell_type": "code",
   "execution_count": null,
   "metadata": {},
   "outputs": [],
   "source": [
    "results_jpl"
   ]
  },
  {
   "cell_type": "code",
   "execution_count": null,
   "metadata": {},
   "outputs": [],
   "source": [
    "url_mars = 'https://space-facts.com/mars/'\n",
    "\n",
    "response_mars = requests.get(url_mars)\n",
    "# Create BeautifulSoup object; parse with 'html.parser'\n",
    "\n",
    "soup_mars = BeautifulSoup(response_mars.text, 'html.parser')\n",
    "# results are returned as an iterable list\n",
    "\n",
    "data_mars = []\n",
    "table = soup_mars.find('table', attrs={'id':'tablepress-p-mars'})\n",
    "table_body = table.find('tbody')\n",
    "\n",
    "rows = table_body.find_all('tr')\n",
    "for row in rows:\n",
    "    cols = row.find_all('td')\n",
    "    cols = [ele.text.strip() for ele in cols]\n",
    "    data_mars.append([ele for ele in cols if ele])\n",
    "\n",
    "data_mars_earth = []\n",
    "table = soup_mars.find('table', attrs={'id':'tablepress-comp-mars'})\n",
    "table_body = table.find('tbody')\n",
    "\n",
    "rows = table_body.find_all('tr')\n",
    "for row in rows:\n",
    "    cols = row.find_all('td')\n",
    "    cols = [ele.text.strip() for ele in cols]\n",
    "    data_mars_earth.append([ele for ele in cols if ele])"
   ]
  },
  {
   "cell_type": "code",
   "execution_count": null,
   "metadata": {},
   "outputs": [],
   "source": [
    "data_mars_earth"
   ]
  },
  {
   "cell_type": "code",
   "execution_count": null,
   "metadata": {},
   "outputs": [],
   "source": [
    "img_data = {'title': [], 'img': []}\n",
    "title = []\n",
    "img = []\n",
    "src = []\n",
    "\n",
    "moons = ['Cerberus', 'Schiaparelli', 'Syrtis', 'Valles']\n",
    "\n",
    "url_mars_hemi = 'https://astrogeology.usgs.gov/search/results?q=hemisphere+enhanced&k1=target&v1=Mars'\n",
    "new = url_mars_hemi.split('/')\n",
    "url_recon = new[0] + '//' + new[2]\n",
    "\n",
    "executable_path = {'executable_path': ChromeDriverManager().install()}\n",
    "browser = Browser('chrome', **executable_path, headless=False)\n",
    "\n",
    "for i in range(4):\n",
    "    \n",
    "    url_mars_hemi = 'https://astrogeology.usgs.gov/search/results?q=hemisphere+enhanced&k1=target&v1=Mars'\n",
    "    browser.visit(url_mars_hemi)\n",
    "    browser.links.find_by_partial_text(moons[i]).click()\n",
    "    new_url = browser.url\n",
    "    src.append(browser.url)\n",
    "    response_title = requests.get(new_url)\n",
    "    # Create BeautifulSoup object; parse with 'html.parser'\n",
    "\n",
    "    soup_title = BeautifulSoup(response_title.text, 'html.parser')\n",
    "    # results are returned as an iterable list\n",
    "\n",
    "    hemi_title = soup_title.find('head')\n",
    "    title.append(hemi_title.title.text)\n",
    "    print(hemi_title.title.text)\n",
    "\n",
    "    hemi_img = soup_title.find('img', class_='thumb')\n",
    "    img.append(url_recon + hemi_img['src'])\n",
    "    print(hemi_img['src'])\n",
    "    \n",
    "    i += 1\n",
    "    \n",
    "browser.quit()\n",
    "\n",
    "img_data['title'].append(title)\n",
    "img_data['img'].append(img)"
   ]
  },
  {
   "cell_type": "code",
   "execution_count": null,
   "metadata": {},
   "outputs": [],
   "source": [
    "for index in range(len(img_data['title'][0])):\n",
    "    img_data['title'][0][index] = img_data['title'][0][index].split(\" | \")[0]\n",
    "    img_data['title'][0][index] = img_data['title'][0][index].replace(' Enhanced','')\n",
    "img_data\n"
   ]
  },
  {
   "cell_type": "code",
   "execution_count": null,
   "metadata": {},
   "outputs": [],
   "source": [
    "img_data['title'][0][1]"
   ]
  },
  {
   "cell_type": "code",
   "execution_count": null,
   "metadata": {},
   "outputs": [],
   "source": [
    "url_mars = 'https://space-facts.com/mars/'\n",
    "tables = pd.read_html(url_mars)\n",
    "mars_data_tb = tables[0]\n",
    "mars_earth_tb = tables[1]"
   ]
  },
  {
   "cell_type": "code",
   "execution_count": null,
   "metadata": {},
   "outputs": [],
   "source": [
    "mars_data_tb.rename(columns={0:'Attribute', 1:'Value'}, inplace = True)\n",
    "mars_data_tb.set_index('Attribute', inplace = True)"
   ]
  },
  {
   "cell_type": "code",
   "execution_count": null,
   "metadata": {},
   "outputs": [],
   "source": [
    "mars_data_tb"
   ]
  },
  {
   "cell_type": "code",
   "execution_count": null,
   "metadata": {},
   "outputs": [],
   "source": [
    "mars_earth_tb.rename(columns={'Mars - Earth Comparison':'Attribute'}, inplace = True)\n",
    "mars_earth_tb.set_index('Attribute', inplace = True)"
   ]
  },
  {
   "cell_type": "code",
   "execution_count": null,
   "metadata": {},
   "outputs": [],
   "source": [
    "mars_earth_tb"
   ]
  },
  {
   "cell_type": "code",
   "execution_count": null,
   "metadata": {},
   "outputs": [],
   "source": [
    "mars_earth_html = mars_earth_tb.to_html(header = True, index_names = False)\n",
    "mars_data_html = mars_data_tb.to_html()"
   ]
  },
  {
   "cell_type": "code",
   "execution_count": null,
   "metadata": {},
   "outputs": [],
   "source": [
    "mars_earth_html"
   ]
  },
  {
   "cell_type": "markdown",
   "metadata": {},
   "source": []
  }
 ],
 "metadata": {
  "kernelspec": {
   "display_name": "Python [conda env:PythonData] *",
   "language": "python",
   "name": "conda-env-PythonData-py"
  },
  "language_info": {
   "codemirror_mode": {
    "name": "ipython",
    "version": 3
   },
   "file_extension": ".py",
   "mimetype": "text/x-python",
   "name": "python",
   "nbconvert_exporter": "python",
   "pygments_lexer": "ipython3",
   "version": "3.6.10"
  }
 },
 "nbformat": 4,
 "nbformat_minor": 4
}
